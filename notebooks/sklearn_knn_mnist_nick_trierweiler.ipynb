{
 "cells": [
  {
   "cell_type": "code",
   "execution_count": null,
   "metadata": {
    "collapsed": true
   },
   "outputs": [],
   "source": [
    "#KNeighbors implementation for Digit Recognition"
   ]
  },
  {
   "cell_type": "code",
   "execution_count": 1,
   "metadata": {
    "collapsed": false
   },
   "outputs": [
    {
     "name": "stdout",
     "output_type": "stream",
     "text": [
      "Shape of Data:  (28000, 784)\n",
      "Shape of Target (28000,)\n"
     ]
    }
   ],
   "source": [
    "import numpy as np\n",
    "import pandas as pd\n",
    "from pandas import DataFrame\n",
    "#from sklearn.datasets import fetch_mldata\n",
    "mnist = pd.read_csv('train.csv')\n",
    "data = mnist.drop('label', axis=1)\n",
    "target = mnist['label']\n",
    "data = data[0:28000]\n",
    "target = target[0:28000]\n",
    "print \"Shape of Data: \", data.shape\n",
    "print \"Shape of Target\", target.shape\n",
    "x_test = pd.read_csv('test.csv')"
   ]
  },
  {
   "cell_type": "code",
   "execution_count": 2,
   "metadata": {
    "collapsed": true
   },
   "outputs": [],
   "source": [
    "#split the data, test size default is .25, set train size to .8 and random state is set to an int\n",
    "#random_state will be random if unset to select different data from the set each time\n",
    "\n",
    "from sklearn.cross_validation import train_test_split\n",
    "X,  kaggle_x, Y, kaggle_y = train_test_split(data, target, \n",
    "                                                    train_size= 0.8, random_state = 42)"
   ]
  },
  {
   "cell_type": "code",
   "execution_count": 3,
   "metadata": {
    "collapsed": true
   },
   "outputs": [],
   "source": [
    "from sklearn.cross_validation import cross_val_score\n",
    "from sklearn.neighbors import KNeighborsClassifier\n",
    "#set knnmodel to classifier, defaults are used but can be tuned by setting the parameters manually, \n",
    "#see http://scikit-learn.org/stable/modules/generated/sklearn.neighbors.KNeighborsClassifier.html\n",
    "knnmodel = KNeighborsClassifier()\n",
    "knncvscore = cross_val_score(knnmodel, \n",
    "                          X, Y, scoring='accuracy', n_jobs=-1)"
   ]
  },
  {
   "cell_type": "code",
   "execution_count": 4,
   "metadata": {
    "collapsed": false
   },
   "outputs": [
    {
     "name": "stdout",
     "output_type": "stream",
     "text": [
      "Knn CV Score is:  [ 0.95395529  0.9541862   0.95484995]\n"
     ]
    }
   ],
   "source": [
    "print \"Knn CV Score is: \", knncvscore"
   ]
  },
  {
   "cell_type": "code",
   "execution_count": 6,
   "metadata": {
    "collapsed": false
   },
   "outputs": [],
   "source": [
    "#Use KNNModel to predict Digit\n",
    "finalmodel = knnmodel\n",
    "finalmodel.fit(X,Y)\n",
    "predictions = finalmodel.predict(kaggle_x)"
   ]
  },
  {
   "cell_type": "code",
   "execution_count": 20,
   "metadata": {
    "collapsed": false
   },
   "outputs": [],
   "source": [
    "#Check how well predictions went! Really useful for testing if you wanted to play with the parameters in the \n",
    "#KNeighborsClassifier()\n",
    "from sklearn.metrics import accuracy_score\n",
    "accscore = accuracy_score(predictions, kaggle_y)"
   ]
  },
  {
   "cell_type": "code",
   "execution_count": 21,
   "metadata": {
    "collapsed": false
   },
   "outputs": [
    {
     "name": "stdout",
     "output_type": "stream",
     "text": [
      "The accuracy score is 0.964107142857\n"
     ]
    }
   ],
   "source": [
    "print \"The accuracy score is\", accscore"
   ]
  },
  {
   "cell_type": "code",
   "execution_count": 8,
   "metadata": {
    "collapsed": false
   },
   "outputs": [
    {
     "data": {
      "text/plain": [
       "\"\\nsubmission = np.savetxt('Data_science_club_MNIST_submission.csv', \\n           np.c_[range(1,len(predictions)+1),predictions], \\n           delimiter=',', \\n           header = 'ImageId,Label', \\n           comments = '', \\n           fmt='%d')\\n\""
      ]
     },
     "execution_count": 8,
     "metadata": {},
     "output_type": "execute_result"
    }
   ],
   "source": [
    "from pandas import DataFrame\n",
    "import numpy as np\n",
    "submission = DataFrame(predictions, columns=['Label'], \n",
    "                       index=np.arange(1, 28001))\n",
    "submission.index.names = ['ImageId']\n",
    "pd.DataFrame({\"ImageId\": range(1, len(predictions)+1), \"Label\": predictions}).to_csv('Data_science_club_MNIST_submission.csv', index=False, header=True)\n"
   ]
  },
  {
   "cell_type": "code",
   "execution_count": 9,
   "metadata": {
    "collapsed": false
   },
   "outputs": [],
   "source": [
    "import csv\n",
    "with open('Data_science_club_MNIST_submission.csv',\"r\") as f:\n",
    "    reader = csv.reader(f,delimiter = \",\")\n",
    "    data = list(reader)\n",
    "    row_count = len(data)"
   ]
  },
  {
   "cell_type": "code",
   "execution_count": 10,
   "metadata": {
    "collapsed": false
   },
   "outputs": [
    {
     "name": "stdout",
     "output_type": "stream",
     "text": [
      "28001\n"
     ]
    }
   ],
   "source": [
    "print row_count"
   ]
  }
 ],
 "metadata": {
  "anaconda-cloud": {},
  "kernelspec": {
   "display_name": "Python 2",
   "language": "python",
   "name": "python2"
  },
  "language_info": {
   "codemirror_mode": {
    "name": "ipython",
    "version": 2
   },
   "file_extension": ".py",
   "mimetype": "text/x-python",
   "name": "python",
   "nbconvert_exporter": "python",
   "pygments_lexer": "ipython2",
   "version": "2.7.6"
  }
 },
 "nbformat": 4,
 "nbformat_minor": 0
}
